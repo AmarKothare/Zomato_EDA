{
 "cells": [
  {
   "cell_type": "markdown",
   "id": "32792d34",
   "metadata": {},
   "source": [
    "# 1) Importing libraries"
   ]
  },
  {
   "cell_type": "code",
   "execution_count": 1,
   "id": "3c9abcc7",
   "metadata": {},
   "outputs": [],
   "source": [
    "import pandas as pd\n",
    "import numpy as np\n",
    "import matplotlib.pyplot as plt\n",
    "import seaborn as sns\n",
    "%matplotlib inline"
   ]
  },
  {
   "cell_type": "code",
   "execution_count": 2,
   "id": "d24a7d0e",
   "metadata": {},
   "outputs": [
    {
     "data": {
      "text/html": [
       "        <script type=\"text/javascript\">\n",
       "        window.PlotlyConfig = {MathJaxConfig: 'local'};\n",
       "        if (window.MathJax) {MathJax.Hub.Config({SVG: {font: \"STIX-Web\"}});}\n",
       "        if (typeof require !== 'undefined') {\n",
       "        require.undef(\"plotly\");\n",
       "        requirejs.config({\n",
       "            paths: {\n",
       "                'plotly': ['https://cdn.plot.ly/plotly-2.8.3.min']\n",
       "            }\n",
       "        });\n",
       "        require(['plotly'], function(Plotly) {\n",
       "            window._Plotly = Plotly;\n",
       "        });\n",
       "        }\n",
       "        </script>\n",
       "        "
      ]
     },
     "metadata": {},
     "output_type": "display_data"
    },
    {
     "data": {
      "text/html": [
       "        <script type=\"text/javascript\">\n",
       "        window.PlotlyConfig = {MathJaxConfig: 'local'};\n",
       "        if (window.MathJax) {MathJax.Hub.Config({SVG: {font: \"STIX-Web\"}});}\n",
       "        if (typeof require !== 'undefined') {\n",
       "        require.undef(\"plotly\");\n",
       "        requirejs.config({\n",
       "            paths: {\n",
       "                'plotly': ['https://cdn.plot.ly/plotly-2.8.3.min']\n",
       "            }\n",
       "        });\n",
       "        require(['plotly'], function(Plotly) {\n",
       "            window._Plotly = Plotly;\n",
       "        });\n",
       "        }\n",
       "        </script>\n",
       "        "
      ]
     },
     "metadata": {},
     "output_type": "display_data"
    }
   ],
   "source": [
    "from plotly.offline import iplot\n",
    "import plotly as py\n",
    "import plotly.tools as tls\n",
    "import cufflinks as cf\n",
    "py.offline.init_notebook_mode(connected=True)\n",
    "cf.go_offline()"
   ]
  },
  {
   "cell_type": "markdown",
   "id": "f18d786c",
   "metadata": {},
   "source": [
    "# 2) Importing Dataset"
   ]
  },
  {
   "cell_type": "code",
   "execution_count": 7,
   "id": "7a90841f",
   "metadata": {},
   "outputs": [
    {
     "ename": "UnicodeDecodeError",
     "evalue": "'utf-8' codec can't decode byte 0xed in position 7044: invalid continuation byte",
     "output_type": "error",
     "traceback": [
      "\u001b[1;31m---------------------------------------------------------------------------\u001b[0m",
      "\u001b[1;31mUnicodeDecodeError\u001b[0m                        Traceback (most recent call last)",
      "\u001b[1;32m~\\AppData\\Local\\Temp/ipykernel_3912/2480377767.py\u001b[0m in \u001b[0;36m<module>\u001b[1;34m\u001b[0m\n\u001b[1;32m----> 1\u001b[1;33m \u001b[0mpd\u001b[0m\u001b[1;33m.\u001b[0m\u001b[0mread_csv\u001b[0m\u001b[1;33m(\u001b[0m\u001b[1;34m\"zomato.csv\"\u001b[0m\u001b[1;33m)\u001b[0m\u001b[1;33m\u001b[0m\u001b[1;33m\u001b[0m\u001b[0m\n\u001b[0m",
      "\u001b[1;32m~\\anaconda3\\envs\\Py38\\lib\\site-packages\\pandas\\util\\_decorators.py\u001b[0m in \u001b[0;36mwrapper\u001b[1;34m(*args, **kwargs)\u001b[0m\n\u001b[0;32m    309\u001b[0m                     \u001b[0mstacklevel\u001b[0m\u001b[1;33m=\u001b[0m\u001b[0mstacklevel\u001b[0m\u001b[1;33m,\u001b[0m\u001b[1;33m\u001b[0m\u001b[1;33m\u001b[0m\u001b[0m\n\u001b[0;32m    310\u001b[0m                 )\n\u001b[1;32m--> 311\u001b[1;33m             \u001b[1;32mreturn\u001b[0m \u001b[0mfunc\u001b[0m\u001b[1;33m(\u001b[0m\u001b[1;33m*\u001b[0m\u001b[0margs\u001b[0m\u001b[1;33m,\u001b[0m \u001b[1;33m**\u001b[0m\u001b[0mkwargs\u001b[0m\u001b[1;33m)\u001b[0m\u001b[1;33m\u001b[0m\u001b[1;33m\u001b[0m\u001b[0m\n\u001b[0m\u001b[0;32m    312\u001b[0m \u001b[1;33m\u001b[0m\u001b[0m\n\u001b[0;32m    313\u001b[0m         \u001b[1;32mreturn\u001b[0m \u001b[0mwrapper\u001b[0m\u001b[1;33m\u001b[0m\u001b[1;33m\u001b[0m\u001b[0m\n",
      "\u001b[1;32m~\\anaconda3\\envs\\Py38\\lib\\site-packages\\pandas\\io\\parsers\\readers.py\u001b[0m in \u001b[0;36mread_csv\u001b[1;34m(filepath_or_buffer, sep, delimiter, header, names, index_col, usecols, squeeze, prefix, mangle_dupe_cols, dtype, engine, converters, true_values, false_values, skipinitialspace, skiprows, skipfooter, nrows, na_values, keep_default_na, na_filter, verbose, skip_blank_lines, parse_dates, infer_datetime_format, keep_date_col, date_parser, dayfirst, cache_dates, iterator, chunksize, compression, thousands, decimal, lineterminator, quotechar, quoting, doublequote, escapechar, comment, encoding, encoding_errors, dialect, error_bad_lines, warn_bad_lines, on_bad_lines, delim_whitespace, low_memory, memory_map, float_precision, storage_options)\u001b[0m\n\u001b[0;32m    584\u001b[0m     \u001b[0mkwds\u001b[0m\u001b[1;33m.\u001b[0m\u001b[0mupdate\u001b[0m\u001b[1;33m(\u001b[0m\u001b[0mkwds_defaults\u001b[0m\u001b[1;33m)\u001b[0m\u001b[1;33m\u001b[0m\u001b[1;33m\u001b[0m\u001b[0m\n\u001b[0;32m    585\u001b[0m \u001b[1;33m\u001b[0m\u001b[0m\n\u001b[1;32m--> 586\u001b[1;33m     \u001b[1;32mreturn\u001b[0m \u001b[0m_read\u001b[0m\u001b[1;33m(\u001b[0m\u001b[0mfilepath_or_buffer\u001b[0m\u001b[1;33m,\u001b[0m \u001b[0mkwds\u001b[0m\u001b[1;33m)\u001b[0m\u001b[1;33m\u001b[0m\u001b[1;33m\u001b[0m\u001b[0m\n\u001b[0m\u001b[0;32m    587\u001b[0m \u001b[1;33m\u001b[0m\u001b[0m\n\u001b[0;32m    588\u001b[0m \u001b[1;33m\u001b[0m\u001b[0m\n",
      "\u001b[1;32m~\\anaconda3\\envs\\Py38\\lib\\site-packages\\pandas\\io\\parsers\\readers.py\u001b[0m in \u001b[0;36m_read\u001b[1;34m(filepath_or_buffer, kwds)\u001b[0m\n\u001b[0;32m    480\u001b[0m \u001b[1;33m\u001b[0m\u001b[0m\n\u001b[0;32m    481\u001b[0m     \u001b[1;31m# Create the parser.\u001b[0m\u001b[1;33m\u001b[0m\u001b[1;33m\u001b[0m\u001b[1;33m\u001b[0m\u001b[0m\n\u001b[1;32m--> 482\u001b[1;33m     \u001b[0mparser\u001b[0m \u001b[1;33m=\u001b[0m \u001b[0mTextFileReader\u001b[0m\u001b[1;33m(\u001b[0m\u001b[0mfilepath_or_buffer\u001b[0m\u001b[1;33m,\u001b[0m \u001b[1;33m**\u001b[0m\u001b[0mkwds\u001b[0m\u001b[1;33m)\u001b[0m\u001b[1;33m\u001b[0m\u001b[1;33m\u001b[0m\u001b[0m\n\u001b[0m\u001b[0;32m    483\u001b[0m \u001b[1;33m\u001b[0m\u001b[0m\n\u001b[0;32m    484\u001b[0m     \u001b[1;32mif\u001b[0m \u001b[0mchunksize\u001b[0m \u001b[1;32mor\u001b[0m \u001b[0miterator\u001b[0m\u001b[1;33m:\u001b[0m\u001b[1;33m\u001b[0m\u001b[1;33m\u001b[0m\u001b[0m\n",
      "\u001b[1;32m~\\anaconda3\\envs\\Py38\\lib\\site-packages\\pandas\\io\\parsers\\readers.py\u001b[0m in \u001b[0;36m__init__\u001b[1;34m(self, f, engine, **kwds)\u001b[0m\n\u001b[0;32m    809\u001b[0m             \u001b[0mself\u001b[0m\u001b[1;33m.\u001b[0m\u001b[0moptions\u001b[0m\u001b[1;33m[\u001b[0m\u001b[1;34m\"has_index_names\"\u001b[0m\u001b[1;33m]\u001b[0m \u001b[1;33m=\u001b[0m \u001b[0mkwds\u001b[0m\u001b[1;33m[\u001b[0m\u001b[1;34m\"has_index_names\"\u001b[0m\u001b[1;33m]\u001b[0m\u001b[1;33m\u001b[0m\u001b[1;33m\u001b[0m\u001b[0m\n\u001b[0;32m    810\u001b[0m \u001b[1;33m\u001b[0m\u001b[0m\n\u001b[1;32m--> 811\u001b[1;33m         \u001b[0mself\u001b[0m\u001b[1;33m.\u001b[0m\u001b[0m_engine\u001b[0m \u001b[1;33m=\u001b[0m \u001b[0mself\u001b[0m\u001b[1;33m.\u001b[0m\u001b[0m_make_engine\u001b[0m\u001b[1;33m(\u001b[0m\u001b[0mself\u001b[0m\u001b[1;33m.\u001b[0m\u001b[0mengine\u001b[0m\u001b[1;33m)\u001b[0m\u001b[1;33m\u001b[0m\u001b[1;33m\u001b[0m\u001b[0m\n\u001b[0m\u001b[0;32m    812\u001b[0m \u001b[1;33m\u001b[0m\u001b[0m\n\u001b[0;32m    813\u001b[0m     \u001b[1;32mdef\u001b[0m \u001b[0mclose\u001b[0m\u001b[1;33m(\u001b[0m\u001b[0mself\u001b[0m\u001b[1;33m)\u001b[0m\u001b[1;33m:\u001b[0m\u001b[1;33m\u001b[0m\u001b[1;33m\u001b[0m\u001b[0m\n",
      "\u001b[1;32m~\\anaconda3\\envs\\Py38\\lib\\site-packages\\pandas\\io\\parsers\\readers.py\u001b[0m in \u001b[0;36m_make_engine\u001b[1;34m(self, engine)\u001b[0m\n\u001b[0;32m   1038\u001b[0m             )\n\u001b[0;32m   1039\u001b[0m         \u001b[1;31m# error: Too many arguments for \"ParserBase\"\u001b[0m\u001b[1;33m\u001b[0m\u001b[1;33m\u001b[0m\u001b[1;33m\u001b[0m\u001b[0m\n\u001b[1;32m-> 1040\u001b[1;33m         \u001b[1;32mreturn\u001b[0m \u001b[0mmapping\u001b[0m\u001b[1;33m[\u001b[0m\u001b[0mengine\u001b[0m\u001b[1;33m]\u001b[0m\u001b[1;33m(\u001b[0m\u001b[0mself\u001b[0m\u001b[1;33m.\u001b[0m\u001b[0mf\u001b[0m\u001b[1;33m,\u001b[0m \u001b[1;33m**\u001b[0m\u001b[0mself\u001b[0m\u001b[1;33m.\u001b[0m\u001b[0moptions\u001b[0m\u001b[1;33m)\u001b[0m  \u001b[1;31m# type: ignore[call-arg]\u001b[0m\u001b[1;33m\u001b[0m\u001b[1;33m\u001b[0m\u001b[0m\n\u001b[0m\u001b[0;32m   1041\u001b[0m \u001b[1;33m\u001b[0m\u001b[0m\n\u001b[0;32m   1042\u001b[0m     \u001b[1;32mdef\u001b[0m \u001b[0m_failover_to_python\u001b[0m\u001b[1;33m(\u001b[0m\u001b[0mself\u001b[0m\u001b[1;33m)\u001b[0m\u001b[1;33m:\u001b[0m\u001b[1;33m\u001b[0m\u001b[1;33m\u001b[0m\u001b[0m\n",
      "\u001b[1;32m~\\anaconda3\\envs\\Py38\\lib\\site-packages\\pandas\\io\\parsers\\c_parser_wrapper.py\u001b[0m in \u001b[0;36m__init__\u001b[1;34m(self, src, **kwds)\u001b[0m\n\u001b[0;32m     67\u001b[0m         \u001b[0mkwds\u001b[0m\u001b[1;33m[\u001b[0m\u001b[1;34m\"dtype\"\u001b[0m\u001b[1;33m]\u001b[0m \u001b[1;33m=\u001b[0m \u001b[0mensure_dtype_objs\u001b[0m\u001b[1;33m(\u001b[0m\u001b[0mkwds\u001b[0m\u001b[1;33m.\u001b[0m\u001b[0mget\u001b[0m\u001b[1;33m(\u001b[0m\u001b[1;34m\"dtype\"\u001b[0m\u001b[1;33m,\u001b[0m \u001b[1;32mNone\u001b[0m\u001b[1;33m)\u001b[0m\u001b[1;33m)\u001b[0m\u001b[1;33m\u001b[0m\u001b[1;33m\u001b[0m\u001b[0m\n\u001b[0;32m     68\u001b[0m         \u001b[1;32mtry\u001b[0m\u001b[1;33m:\u001b[0m\u001b[1;33m\u001b[0m\u001b[1;33m\u001b[0m\u001b[0m\n\u001b[1;32m---> 69\u001b[1;33m             \u001b[0mself\u001b[0m\u001b[1;33m.\u001b[0m\u001b[0m_reader\u001b[0m \u001b[1;33m=\u001b[0m \u001b[0mparsers\u001b[0m\u001b[1;33m.\u001b[0m\u001b[0mTextReader\u001b[0m\u001b[1;33m(\u001b[0m\u001b[0mself\u001b[0m\u001b[1;33m.\u001b[0m\u001b[0mhandles\u001b[0m\u001b[1;33m.\u001b[0m\u001b[0mhandle\u001b[0m\u001b[1;33m,\u001b[0m \u001b[1;33m**\u001b[0m\u001b[0mkwds\u001b[0m\u001b[1;33m)\u001b[0m\u001b[1;33m\u001b[0m\u001b[1;33m\u001b[0m\u001b[0m\n\u001b[0m\u001b[0;32m     70\u001b[0m         \u001b[1;32mexcept\u001b[0m \u001b[0mException\u001b[0m\u001b[1;33m:\u001b[0m\u001b[1;33m\u001b[0m\u001b[1;33m\u001b[0m\u001b[0m\n\u001b[0;32m     71\u001b[0m             \u001b[0mself\u001b[0m\u001b[1;33m.\u001b[0m\u001b[0mhandles\u001b[0m\u001b[1;33m.\u001b[0m\u001b[0mclose\u001b[0m\u001b[1;33m(\u001b[0m\u001b[1;33m)\u001b[0m\u001b[1;33m\u001b[0m\u001b[1;33m\u001b[0m\u001b[0m\n",
      "\u001b[1;32m~\\anaconda3\\envs\\Py38\\lib\\site-packages\\pandas\\_libs\\parsers.pyx\u001b[0m in \u001b[0;36mpandas._libs.parsers.TextReader.__cinit__\u001b[1;34m()\u001b[0m\n",
      "\u001b[1;32m~\\anaconda3\\envs\\Py38\\lib\\site-packages\\pandas\\_libs\\parsers.pyx\u001b[0m in \u001b[0;36mpandas._libs.parsers.TextReader._get_header\u001b[1;34m()\u001b[0m\n",
      "\u001b[1;32m~\\anaconda3\\envs\\Py38\\lib\\site-packages\\pandas\\_libs\\parsers.pyx\u001b[0m in \u001b[0;36mpandas._libs.parsers.TextReader._tokenize_rows\u001b[1;34m()\u001b[0m\n",
      "\u001b[1;32m~\\anaconda3\\envs\\Py38\\lib\\site-packages\\pandas\\_libs\\parsers.pyx\u001b[0m in \u001b[0;36mpandas._libs.parsers.raise_parser_error\u001b[1;34m()\u001b[0m\n",
      "\u001b[1;31mUnicodeDecodeError\u001b[0m: 'utf-8' codec can't decode byte 0xed in position 7044: invalid continuation byte"
     ]
    }
   ],
   "source": [
    "pd.read_csv(\"zomato.csv\")"
   ]
  },
  {
   "cell_type": "markdown",
   "id": "6931de38",
   "metadata": {},
   "source": [
    "# 3) Basic Information"
   ]
  },
  {
   "cell_type": "code",
   "execution_count": null,
   "id": "fad9eb6f",
   "metadata": {},
   "outputs": [],
   "source": [
    "df.shape"
   ]
  },
  {
   "cell_type": "code",
   "execution_count": null,
   "id": "a13dc610",
   "metadata": {},
   "outputs": [],
   "source": [
    "df.info()"
   ]
  },
  {
   "cell_type": "code",
   "execution_count": null,
   "id": "0ca0a88e",
   "metadata": {},
   "outputs": [],
   "source": [
    "df.describe()"
   ]
  },
  {
   "cell_type": "markdown",
   "id": "768ef313",
   "metadata": {},
   "source": [
    "# 4) Erasing unwanted Data"
   ]
  },
  {
   "cell_type": "code",
   "execution_count": null,
   "id": "e5c9109b",
   "metadata": {},
   "outputs": [],
   "source": [
    "del df[\"url\"]\n",
    "del df[\"address\"]\n",
    "del df[\"phone\"]\n"
   ]
  },
  {
   "cell_type": "markdown",
   "id": "3a2ccc47",
   "metadata": {},
   "source": [
    "# 5) Duplicates"
   ]
  },
  {
   "cell_type": "code",
   "execution_count": null,
   "id": "346ec6a2",
   "metadata": {},
   "outputs": [],
   "source": [
    "df.duplicated().sum()"
   ]
  },
  {
   "cell_type": "code",
   "execution_count": null,
   "id": "777f7f84",
   "metadata": {},
   "outputs": [],
   "source": [
    "df.drop_duplicates(inplace=True)"
   ]
  },
  {
   "cell_type": "markdown",
   "id": "8cfbcb09",
   "metadata": {},
   "source": [
    "# 6) Checking for NAN Values"
   ]
  },
  {
   "cell_type": "code",
   "execution_count": null,
   "id": "701a5f5b",
   "metadata": {},
   "outputs": [],
   "source": [
    "df.isnull().sum()"
   ]
  },
  {
   "cell_type": "markdown",
   "id": "7d1b8b59",
   "metadata": {},
   "source": [
    "# 7) Dropping all Null values"
   ]
  },
  {
   "cell_type": "code",
   "execution_count": null,
   "id": "6d82a247",
   "metadata": {},
   "outputs": [],
   "source": [
    "del df[\"dish_liked\"]  # since more than 50% of rows in dish_liked are Null values."
   ]
  },
  {
   "cell_type": "code",
   "execution_count": null,
   "id": "f997f5a9",
   "metadata": {},
   "outputs": [],
   "source": [
    "df.isnull().sum()"
   ]
  },
  {
   "cell_type": "code",
   "execution_count": null,
   "id": "f06f91c3",
   "metadata": {},
   "outputs": [],
   "source": [
    "sns.heatmap(df.isnull(),cbar=False)   # this method can be used to check the No. of null values Graphically"
   ]
  },
  {
   "cell_type": "markdown",
   "id": "9bd7a170",
   "metadata": {},
   "source": [
    "# Operation on Columns"
   ]
  },
  {
   "cell_type": "code",
   "execution_count": null,
   "id": "f056f52d",
   "metadata": {},
   "outputs": [],
   "source": [
    "df.columns"
   ]
  },
  {
   "cell_type": "code",
   "execution_count": null,
   "id": "9c58cdb3",
   "metadata": {},
   "outputs": [],
   "source": [
    "df=df.rename(columns={\"approx_cost(for two people)\":\"cost\",'listed_in(type)':\"type\",\"listed_in(city)\":\"city\"})\n",
    "df.columns"
   ]
  },
  {
   "cell_type": "code",
   "execution_count": null,
   "id": "40ad27b3",
   "metadata": {},
   "outputs": [],
   "source": [
    "df.head()"
   ]
  },
  {
   "cell_type": "code",
   "execution_count": null,
   "id": "a0a2b8e1",
   "metadata": {},
   "outputs": [],
   "source": [
    "df.cost.unique()"
   ]
  },
  {
   "cell_type": "code",
   "execution_count": null,
   "id": "69ab7a9c",
   "metadata": {},
   "outputs": [],
   "source": [
    "## Some Transformations on \"cost\"\n",
    "\n",
    "df[\"cost\"]=df[\"cost\"].astype(str)\n",
    "df[\"cost\"]=df[\"cost\"].apply(lambda x: x.replace(\",\",\"\"))\n",
    "df[\"cost\"]=df[\"cost\"].astype(float)\n",
    "df.info()\n"
   ]
  },
  {
   "cell_type": "code",
   "execution_count": null,
   "id": "458c9c5e",
   "metadata": {},
   "outputs": [],
   "source": [
    "## Some Transformation on \"rate\"\n",
    "\n",
    "df[\"rate\"].unique()"
   ]
  },
  {
   "cell_type": "code",
   "execution_count": null,
   "id": "06508556",
   "metadata": {},
   "outputs": [],
   "source": [
    "df=df.loc[df.rate!=\"NEW\"]  # to remove rows which are having \"NEW\"\n",
    "df=df.loc[df.rate!=\"-\"]\n",
    "remove_slash=lambda x: x.replace(\"/5\",\"\") if type(x)==np.str else x\n",
    "df.rate=df.rate.apply(remove_slash).str.strip().astype(\"float\")\n",
    "df[\"rate\"].head()"
   ]
  },
  {
   "cell_type": "code",
   "execution_count": null,
   "id": "f2f05a99",
   "metadata": {},
   "outputs": [],
   "source": [
    "df.info()"
   ]
  },
  {
   "cell_type": "markdown",
   "id": "a4b5384a",
   "metadata": {},
   "source": [
    "# Pie Chart"
   ]
  },
  {
   "cell_type": "code",
   "execution_count": null,
   "id": "d7f1bb0d",
   "metadata": {},
   "outputs": [],
   "source": [
    "df.online_order.value_counts().plot.pie(fontsize=18,autopct=\"%.2f\")"
   ]
  },
  {
   "cell_type": "code",
   "execution_count": null,
   "id": "652b93fd",
   "metadata": {},
   "outputs": [],
   "source": [
    "df.book_table.value_counts().plot.pie(fontsize=18,autopct=\"%.2f\")"
   ]
  },
  {
   "cell_type": "code",
   "execution_count": null,
   "id": "ddb2cadf",
   "metadata": {},
   "outputs": [],
   "source": [
    "cat_cols=[\"online_order\",\"book_table\",\"type\",\"city\"]\n",
    "i=0\n",
    "while i<4:\n",
    "    fig=plt.figure(figsize=[20,5])\n",
    "    \n",
    "    \n",
    "    plt.subplot(1,2,1)\n",
    "    sns.countplot(x=cat_cols[i],data=df)\n",
    "    plt.xticks(rotation=45)\n",
    "    i+=1\n",
    "    \n",
    "    plt.subplot(1,2,2)\n",
    "    sns.countplot(x=cat_cols[i],data=df)\n",
    "    plt.xticks(rotation=90)\n",
    "    i+=1\n",
    "    \n",
    "    plt.show()\n",
    "    \n",
    "    "
   ]
  },
  {
   "cell_type": "markdown",
   "id": "7dbfc3be",
   "metadata": {},
   "source": [
    "# Largest food chain in banglore"
   ]
  },
  {
   "cell_type": "code",
   "execution_count": null,
   "id": "9813a702",
   "metadata": {},
   "outputs": [],
   "source": [
    "df.name.value_counts().head(30).iplot(kind=\"bar\")"
   ]
  },
  {
   "cell_type": "markdown",
   "id": "1a5b8d0a",
   "metadata": {},
   "source": [
    "# Most popular restaurant types"
   ]
  },
  {
   "cell_type": "code",
   "execution_count": null,
   "id": "c9754373",
   "metadata": {},
   "outputs": [],
   "source": [
    "df.rest_type.value_counts().head(30).iplot(kind=\"bar\")"
   ]
  },
  {
   "cell_type": "code",
   "execution_count": null,
   "id": "b1e5b3ee",
   "metadata": {},
   "outputs": [],
   "source": [
    "df.describe()"
   ]
  },
  {
   "cell_type": "code",
   "execution_count": null,
   "id": "0da93101",
   "metadata": {},
   "outputs": [],
   "source": [
    "cat_cols=[\"rate\",\"votes\",\"cost\",\"cost\"]\n",
    "i=0\n",
    "while i<4:\n",
    "    fig=plt.figure(figsize=[13,3])\n",
    "    \n",
    "    \n",
    "    plt.subplot(1,2,1)\n",
    "    sns.boxplot(x=cat_cols[i],data=df)\n",
    "    i+=1\n",
    "    \n",
    "    plt.subplot(1,2,2)\n",
    "    sns.boxplot(x=cat_cols[i],data=df)\n",
    "    i+=1\n",
    "    \n",
    "    plt.show()"
   ]
  },
  {
   "cell_type": "markdown",
   "id": "cd5423b4",
   "metadata": {},
   "source": [
    "# Expensive Restaurant in banglore"
   ]
  },
  {
   "cell_type": "code",
   "execution_count": null,
   "id": "17f18b24",
   "metadata": {},
   "outputs": [],
   "source": [
    "df[df.cost>3000].sort_values(ascending=False,by=\"cost\")"
   ]
  },
  {
   "cell_type": "markdown",
   "id": "24f6d48e",
   "metadata": {},
   "source": [
    "1) Most expensive resturants have no Online Order\n",
    "2) Most of the espensive resturants have ratings above \"4\""
   ]
  },
  {
   "cell_type": "code",
   "execution_count": null,
   "id": "acc6f632",
   "metadata": {},
   "outputs": [],
   "source": [
    "x=df[df.cost>3000]\n",
    "x=x.sort_values(ascending=False,by=\"cost\")\n",
    "x=x.location.value_counts()"
   ]
  },
  {
   "cell_type": "code",
   "execution_count": null,
   "id": "55c1cd6b",
   "metadata": {},
   "outputs": [],
   "source": [
    "x.iplot(kind=\"bar\")"
   ]
  },
  {
   "cell_type": "markdown",
   "id": "1e62305f",
   "metadata": {},
   "source": [
    "# Where are the most expensive restaurant located"
   ]
  },
  {
   "cell_type": "code",
   "execution_count": null,
   "id": "5c9cbc48",
   "metadata": {},
   "outputs": [],
   "source": [
    "df[df.cost>3000].sort_values(ascending=False,by=\"cost\").location.value_counts().iplot(kind=\"bar\")"
   ]
  },
  {
   "cell_type": "markdown",
   "id": "479bfc0e",
   "metadata": {},
   "source": [
    "Majority of the expensive restaurant are located on \"Residency Road\""
   ]
  },
  {
   "cell_type": "code",
   "execution_count": null,
   "id": "bdf207ee",
   "metadata": {},
   "outputs": [],
   "source": [
    "df[df.cost>3000].rest_type.value_counts().iplot(kind=\"bar\")"
   ]
  },
  {
   "cell_type": "markdown",
   "id": "2f8876ee",
   "metadata": {},
   "source": [
    "most expensive restaurants are \"Fine dinning\""
   ]
  },
  {
   "cell_type": "markdown",
   "id": "dd676a37",
   "metadata": {},
   "source": [
    "# Ratings by type of restaurant"
   ]
  },
  {
   "cell_type": "code",
   "execution_count": null,
   "id": "a506d891",
   "metadata": {},
   "outputs": [],
   "source": [
    "rate_type=pd.crosstab(df[\"rate\"],df[\"type\"])\n",
    "rate_type.iplot(kind=\"bar\",barmode=\"stack\")"
   ]
  },
  {
   "cell_type": "code",
   "execution_count": null,
   "id": "50a46363",
   "metadata": {},
   "outputs": [],
   "source": [
    "rate_type"
   ]
  },
  {
   "cell_type": "code",
   "execution_count": null,
   "id": "d3312ccc",
   "metadata": {},
   "outputs": [],
   "source": [
    "df.sort_values(ascending=False,by=\"votes\").head(10)"
   ]
  },
  {
   "cell_type": "markdown",
   "id": "09a6b7ee",
   "metadata": {},
   "source": [
    "# Resturant per location"
   ]
  },
  {
   "cell_type": "code",
   "execution_count": null,
   "id": "a148ddde",
   "metadata": {},
   "outputs": [],
   "source": [
    "df[\"location\"].value_counts().head(20).iplot(kind=\"bar\")"
   ]
  },
  {
   "cell_type": "code",
   "execution_count": null,
   "id": "6892ca44",
   "metadata": {},
   "outputs": [],
   "source": [
    "plt.figure(figsize=(10,5))\n",
    "sns.scatterplot(x=\"rate\",y=\"cost\",hue=\"online_order\",data=df,style=\"book_table\")\n",
    "plt.show()"
   ]
  },
  {
   "cell_type": "markdown",
   "id": "52bab920",
   "metadata": {},
   "source": [
    "# Best Economical Resturants"
   ]
  },
  {
   "cell_type": "code",
   "execution_count": null,
   "id": "6a1f402e",
   "metadata": {},
   "outputs": [],
   "source": [
    "df[(df[\"cost\"]<=100) & (df[\"rate\"]>=4)].sort_values(by=[\"rate\"],ascending=False)"
   ]
  },
  {
   "cell_type": "markdown",
   "id": "fd54ef34",
   "metadata": {},
   "source": [
    "# Where are the most cheapest resturants located"
   ]
  },
  {
   "cell_type": "code",
   "execution_count": null,
   "id": "2055acaa",
   "metadata": {},
   "outputs": [],
   "source": [
    "df[(df[\"cost\"]<=100) & (df[\"rate\"]>=4)].sort_values(by=[\"rate\"],ascending=False).location.value_counts().iplot(kind=\"bar\")"
   ]
  },
  {
   "cell_type": "markdown",
   "id": "192fd5a7",
   "metadata": {},
   "source": [
    "The best cheapest resturants are located in \"Basavanagudi\",\"Jayanagar\""
   ]
  },
  {
   "cell_type": "code",
   "execution_count": null,
   "id": "d5556607",
   "metadata": {},
   "outputs": [],
   "source": [
    "df[\"cost\"].mean()"
   ]
  },
  {
   "cell_type": "markdown",
   "id": "6e1f69fa",
   "metadata": {},
   "source": [
    "# Best Average cost Resturants"
   ]
  },
  {
   "cell_type": "code",
   "execution_count": null,
   "id": "27553c5d",
   "metadata": {},
   "outputs": [],
   "source": [
    "df[(df[\"cost\"]<=df[\"cost\"].mean())&(df[\"rate\"]>=4)].sort_values(by=\"rate\",ascending=False)"
   ]
  },
  {
   "cell_type": "markdown",
   "id": "995cb6a1",
   "metadata": {},
   "source": [
    "# Popular cuisine in bangalore"
   ]
  },
  {
   "cell_type": "code",
   "execution_count": null,
   "id": "a888376d",
   "metadata": {},
   "outputs": [],
   "source": [
    "df.cuisines.value_counts().sort_values(ascending=False).head(10).iplot(kind=\"bar\")"
   ]
  },
  {
   "cell_type": "markdown",
   "id": "184ad81d",
   "metadata": {},
   "source": [
    "North Indian and North indian Cuisines are most popular cuisines in bangalore"
   ]
  },
  {
   "cell_type": "markdown",
   "id": "115eebbe",
   "metadata": {},
   "source": [
    "# Average cost by location "
   ]
  },
  {
   "cell_type": "code",
   "execution_count": null,
   "id": "7deedab5",
   "metadata": {},
   "outputs": [],
   "source": [
    "resbyloc=df.groupby(\"location\")\n"
   ]
  },
  {
   "cell_type": "code",
   "execution_count": null,
   "id": "9940e96c",
   "metadata": {},
   "outputs": [],
   "source": [
    "resbyloc.mean()"
   ]
  },
  {
   "cell_type": "code",
   "execution_count": null,
   "id": "95d06004",
   "metadata": {},
   "outputs": [],
   "source": [
    "resbyloc.mean().sort_values(by=\"cost\").iplot(kind=\"bar\",barmode=\"stack\")"
   ]
  },
  {
   "cell_type": "code",
   "execution_count": null,
   "id": "1d248274",
   "metadata": {},
   "outputs": [],
   "source": [
    "print(\"Cost for Two :\")\n",
    "res_cost=float(input(\"\"))\n",
    "print(\"Location :\")\n",
    "res_loc=input(\"\")\n",
    "def top_rest(res_cost,res_loc):\n",
    "    x=df[(df[\"cost\"]<=res_cost) & (df[\"rate\"]>=4) & (df[\"location\"]==res_loc)].sort_values(by=[\"rate\"],ascending=False)\n",
    "    return x\n",
    "top_rest(res_cost,res_loc)"
   ]
  },
  {
   "cell_type": "code",
   "execution_count": null,
   "id": "1edcfa2b",
   "metadata": {},
   "outputs": [],
   "source": []
  },
  {
   "cell_type": "code",
   "execution_count": null,
   "id": "c3dcb25f",
   "metadata": {},
   "outputs": [],
   "source": []
  }
 ],
 "metadata": {
  "kernelspec": {
   "display_name": "Python 3 (ipykernel)",
   "language": "python",
   "name": "python3"
  },
  "language_info": {
   "codemirror_mode": {
    "name": "ipython",
    "version": 3
   },
   "file_extension": ".py",
   "mimetype": "text/x-python",
   "name": "python",
   "nbconvert_exporter": "python",
   "pygments_lexer": "ipython3",
   "version": "3.8.11"
  }
 },
 "nbformat": 4,
 "nbformat_minor": 5
}
